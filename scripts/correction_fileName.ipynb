{
 "cells": [
  {
   "cell_type": "code",
   "execution_count": 51,
   "metadata": {},
   "outputs": [],
   "source": [
    "import glob\n",
    "from bs4 import BeautifulSoup as bs\n",
    "import re"
   ]
  },
  {
   "cell_type": "code",
   "execution_count": 4,
   "metadata": {},
   "outputs": [],
   "source": [
    "files = []\n",
    "\n",
    "for i in glob.glob(\"*.xml\"):\n",
    "    files.append(i)"
   ]
  },
  {
   "cell_type": "code",
   "execution_count": 52,
   "metadata": {},
   "outputs": [],
   "source": [
    "for alto in files:\n",
    "    if re.search(r\"(bpt\\w+)\", alto):\n",
    "        ark = re.search(r\"(bpt\\w+)\", alto).group(1)\n",
    "    \n",
    "    content = []\n",
    "\n",
    "    with open(alto, \"r\") as file:\n",
    "        content = file.readlines()\n",
    "\n",
    "    content = \"\".join(content)\n",
    "    bs_content = bs(content, \"xml\")\n",
    "\n",
    "    result = bs_content.find(\"fileName\")\n",
    "    result.string = ark + \".jpg\"\n",
    "\n",
    "    with open(alto, \"w\") as file:\n",
    "        file.write(str(bs_content))\n"
   ]
  }
 ],
 "metadata": {
  "kernelspec": {
   "display_name": "hn",
   "language": "python",
   "name": "python3"
  },
  "language_info": {
   "codemirror_mode": {
    "name": "ipython",
    "version": 3
   },
   "file_extension": ".py",
   "mimetype": "text/x-python",
   "name": "python",
   "nbconvert_exporter": "python",
   "pygments_lexer": "ipython3",
   "version": "3.9.13"
  },
  "orig_nbformat": 4,
  "vscode": {
   "interpreter": {
    "hash": "881422cff9aecbed0bf825ef73b6f918ef9b8adf90fe8fa3cddf5f7e986ba78e"
   }
  }
 },
 "nbformat": 4,
 "nbformat_minor": 2
}

{
 "cells": [
  {
   "cell_type": "code",
   "execution_count": 12,
   "metadata": {},
   "outputs": [],
   "source": [
    "import glob\n",
    "import xml.etree.ElementTree as ET\n",
    "import re"
   ]
  },
  {
   "cell_type": "code",
   "execution_count": 4,
   "metadata": {},
   "outputs": [],
   "source": [
    "files = []\n",
    "\n",
    "for i in glob.glob(\"*.xml\"):\n",
    "    files.append(i)"
   ]
  },
  {
   "cell_type": "code",
   "execution_count": 9,
   "metadata": {},
   "outputs": [],
   "source": [
    "ark = []\n",
    "\n",
    "for i in files:\n",
    "    if re.search(r\"(bpt\\w+)\", i):\n",
    "        ark.append(re.search(r\"(bpt\\w+)\", i).group(1))"
   ]
  },
  {
   "cell_type": "code",
   "execution_count": 31,
   "metadata": {},
   "outputs": [],
   "source": [
    "alto = \"bpt6k1330777p_p1\"\n",
    "if re.search(r\"(bpt\\w+)\", alto):\n",
    "    ark = re.search(r\"(bpt\\w+)\", alto).group(1)"
   ]
  },
  {
   "cell_type": "code",
   "execution_count": 39,
   "metadata": {},
   "outputs": [],
   "source": [
    "from bs4 import BeautifulSoup as bs\n",
    "\n",
    "content = []\n",
    "\n",
    "with open(alto, \"r\") as file:\n",
    "    content = file.readlines()\n",
    "\n",
    "content = \"\".join(content)\n",
    "bs_content = bs(content, \"xml\")"
   ]
  },
  {
   "cell_type": "code",
   "execution_count": 40,
   "metadata": {},
   "outputs": [
    {
     "data": {
      "text/plain": [
       "<fileName>bpt6k13307768_p2.jpg</fileName>"
      ]
     },
     "execution_count": 40,
     "metadata": {},
     "output_type": "execute_result"
    }
   ],
   "source": [
    "result = bs_content.find(\"fileName\")\n",
    "result.string = ark + \".jpg\"\n",
    "result"
   ]
  },
  {
   "cell_type": "code",
   "execution_count": null,
   "metadata": {},
   "outputs": [],
   "source": [
    "with open(alto, )"
   ]
  }
 ],
 "metadata": {
  "kernelspec": {
   "display_name": "hn",
   "language": "python",
   "name": "python3"
  },
  "language_info": {
   "codemirror_mode": {
    "name": "ipython",
    "version": 3
   },
   "file_extension": ".py",
   "mimetype": "text/x-python",
   "name": "python",
   "nbconvert_exporter": "python",
   "pygments_lexer": "ipython3",
   "version": "3.9.13"
  },
  "orig_nbformat": 4,
  "vscode": {
   "interpreter": {
    "hash": "881422cff9aecbed0bf825ef73b6f918ef9b8adf90fe8fa3cddf5f7e986ba78e"
   }
  }
 },
 "nbformat": 4,
 "nbformat_minor": 2
}
